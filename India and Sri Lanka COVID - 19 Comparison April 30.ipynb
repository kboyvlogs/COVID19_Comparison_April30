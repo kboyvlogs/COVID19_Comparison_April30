{
 "cells": [
  {
   "cell_type": "code",
   "execution_count": 19,
   "id": "8d15cc7f",
   "metadata": {},
   "outputs": [],
   "source": [
    "import pandas as pd\n",
    "import numpy as np\n",
    "import matplotlib.pyplot as plt  \n",
    "import datetime  \n",
    "from matplotlib import pyplot\n",
    "from matplotlib.colors import ListedColormap\n",
    "import seaborn as sns\n",
    "sns.set()"
   ]
  },
  {
   "cell_type": "code",
   "execution_count": 2,
   "id": "29a6589a",
   "metadata": {},
   "outputs": [],
   "source": [
    "local = pd.read_csv(\"D:\\Programming\\local_covid_April30\\local_dailycovid_aril30.csv\",encoding = \"utf-8\")\n",
    "india = pd.read_csv(\"D:\\Programming\\local_covid_April30\\india_dailycovid_aril30.csv\",encoding = \"utf-8\")"
   ]
  },
  {
   "cell_type": "code",
   "execution_count": 3,
   "id": "89e8b586",
   "metadata": {},
   "outputs": [
    {
     "data": {
      "text/html": [
       "<div>\n",
       "<style scoped>\n",
       "    .dataframe tbody tr th:only-of-type {\n",
       "        vertical-align: middle;\n",
       "    }\n",
       "\n",
       "    .dataframe tbody tr th {\n",
       "        vertical-align: top;\n",
       "    }\n",
       "\n",
       "    .dataframe thead th {\n",
       "        text-align: right;\n",
       "    }\n",
       "</style>\n",
       "<table border=\"1\" class=\"dataframe\">\n",
       "  <thead>\n",
       "    <tr style=\"text-align: right;\">\n",
       "      <th></th>\n",
       "      <th>ds</th>\n",
       "      <th>y</th>\n",
       "    </tr>\n",
       "  </thead>\n",
       "  <tbody>\n",
       "    <tr>\n",
       "      <th>0</th>\n",
       "      <td>11/03/2020</td>\n",
       "      <td>1</td>\n",
       "    </tr>\n",
       "    <tr>\n",
       "      <th>1</th>\n",
       "      <td>12/03/2020</td>\n",
       "      <td>0</td>\n",
       "    </tr>\n",
       "    <tr>\n",
       "      <th>2</th>\n",
       "      <td>13/03/2020</td>\n",
       "      <td>4</td>\n",
       "    </tr>\n",
       "    <tr>\n",
       "      <th>3</th>\n",
       "      <td>14/03/2020</td>\n",
       "      <td>4</td>\n",
       "    </tr>\n",
       "    <tr>\n",
       "      <th>4</th>\n",
       "      <td>15/03/2020</td>\n",
       "      <td>8</td>\n",
       "    </tr>\n",
       "  </tbody>\n",
       "</table>\n",
       "</div>"
      ],
      "text/plain": [
       "           ds  y\n",
       "0  11/03/2020  1\n",
       "1  12/03/2020  0\n",
       "2  13/03/2020  4\n",
       "3  14/03/2020  4\n",
       "4  15/03/2020  8"
      ]
     },
     "execution_count": 3,
     "metadata": {},
     "output_type": "execute_result"
    }
   ],
   "source": [
    "local.head()"
   ]
  },
  {
   "cell_type": "code",
   "execution_count": 4,
   "id": "9a398dc0",
   "metadata": {},
   "outputs": [
    {
     "data": {
      "text/html": [
       "<div>\n",
       "<style scoped>\n",
       "    .dataframe tbody tr th:only-of-type {\n",
       "        vertical-align: middle;\n",
       "    }\n",
       "\n",
       "    .dataframe tbody tr th {\n",
       "        vertical-align: top;\n",
       "    }\n",
       "\n",
       "    .dataframe thead th {\n",
       "        text-align: right;\n",
       "    }\n",
       "</style>\n",
       "<table border=\"1\" class=\"dataframe\">\n",
       "  <thead>\n",
       "    <tr style=\"text-align: right;\">\n",
       "      <th></th>\n",
       "      <th>ds</th>\n",
       "      <th>y</th>\n",
       "    </tr>\n",
       "  </thead>\n",
       "  <tbody>\n",
       "    <tr>\n",
       "      <th>0</th>\n",
       "      <td>11/03/2020</td>\n",
       "      <td>6</td>\n",
       "    </tr>\n",
       "    <tr>\n",
       "      <th>1</th>\n",
       "      <td>12/03/2020</td>\n",
       "      <td>11</td>\n",
       "    </tr>\n",
       "    <tr>\n",
       "      <th>2</th>\n",
       "      <td>13/03/2020</td>\n",
       "      <td>9</td>\n",
       "    </tr>\n",
       "    <tr>\n",
       "      <th>3</th>\n",
       "      <td>14/03/2020</td>\n",
       "      <td>20</td>\n",
       "    </tr>\n",
       "    <tr>\n",
       "      <th>4</th>\n",
       "      <td>15/03/2020</td>\n",
       "      <td>11</td>\n",
       "    </tr>\n",
       "  </tbody>\n",
       "</table>\n",
       "</div>"
      ],
      "text/plain": [
       "           ds   y\n",
       "0  11/03/2020   6\n",
       "1  12/03/2020  11\n",
       "2  13/03/2020   9\n",
       "3  14/03/2020  20\n",
       "4  15/03/2020  11"
      ]
     },
     "execution_count": 4,
     "metadata": {},
     "output_type": "execute_result"
    }
   ],
   "source": [
    "india.head()"
   ]
  },
  {
   "cell_type": "code",
   "execution_count": 5,
   "id": "ab10d697",
   "metadata": {},
   "outputs": [
    {
     "data": {
      "text/html": [
       "<div>\n",
       "<style scoped>\n",
       "    .dataframe tbody tr th:only-of-type {\n",
       "        vertical-align: middle;\n",
       "    }\n",
       "\n",
       "    .dataframe tbody tr th {\n",
       "        vertical-align: top;\n",
       "    }\n",
       "\n",
       "    .dataframe thead th {\n",
       "        text-align: right;\n",
       "    }\n",
       "</style>\n",
       "<table border=\"1\" class=\"dataframe\">\n",
       "  <thead>\n",
       "    <tr style=\"text-align: right;\">\n",
       "      <th></th>\n",
       "      <th>ds</th>\n",
       "      <th>y</th>\n",
       "    </tr>\n",
       "  </thead>\n",
       "  <tbody>\n",
       "    <tr>\n",
       "      <th>404</th>\n",
       "      <td>19/04/2021</td>\n",
       "      <td>259167</td>\n",
       "    </tr>\n",
       "    <tr>\n",
       "      <th>405</th>\n",
       "      <td>20/04/2021</td>\n",
       "      <td>295158</td>\n",
       "    </tr>\n",
       "    <tr>\n",
       "      <th>406</th>\n",
       "      <td>21/04/2021</td>\n",
       "      <td>314644</td>\n",
       "    </tr>\n",
       "    <tr>\n",
       "      <th>407</th>\n",
       "      <td>22/04/2021</td>\n",
       "      <td>332921</td>\n",
       "    </tr>\n",
       "    <tr>\n",
       "      <th>408</th>\n",
       "      <td>23/04/2021</td>\n",
       "      <td>346786</td>\n",
       "    </tr>\n",
       "    <tr>\n",
       "      <th>409</th>\n",
       "      <td>24/04/2021</td>\n",
       "      <td>349691</td>\n",
       "    </tr>\n",
       "    <tr>\n",
       "      <th>410</th>\n",
       "      <td>25/04/2021</td>\n",
       "      <td>352991</td>\n",
       "    </tr>\n",
       "    <tr>\n",
       "      <th>411</th>\n",
       "      <td>26/04/2021</td>\n",
       "      <td>323023</td>\n",
       "    </tr>\n",
       "    <tr>\n",
       "      <th>412</th>\n",
       "      <td>27/04/2021</td>\n",
       "      <td>360927</td>\n",
       "    </tr>\n",
       "    <tr>\n",
       "      <th>413</th>\n",
       "      <td>28/04/2021</td>\n",
       "      <td>379308</td>\n",
       "    </tr>\n",
       "    <tr>\n",
       "      <th>414</th>\n",
       "      <td>29/04/2021</td>\n",
       "      <td>386555</td>\n",
       "    </tr>\n",
       "    <tr>\n",
       "      <th>415</th>\n",
       "      <td>30/04/2021</td>\n",
       "      <td>408323</td>\n",
       "    </tr>\n",
       "  </tbody>\n",
       "</table>\n",
       "</div>"
      ],
      "text/plain": [
       "             ds       y\n",
       "404  19/04/2021  259167\n",
       "405  20/04/2021  295158\n",
       "406  21/04/2021  314644\n",
       "407  22/04/2021  332921\n",
       "408  23/04/2021  346786\n",
       "409  24/04/2021  349691\n",
       "410  25/04/2021  352991\n",
       "411  26/04/2021  323023\n",
       "412  27/04/2021  360927\n",
       "413  28/04/2021  379308\n",
       "414  29/04/2021  386555\n",
       "415  30/04/2021  408323"
      ]
     },
     "execution_count": 5,
     "metadata": {},
     "output_type": "execute_result"
    }
   ],
   "source": [
    "india.tail(12)"
   ]
  },
  {
   "cell_type": "code",
   "execution_count": 6,
   "id": "49332434",
   "metadata": {},
   "outputs": [],
   "source": [
    "local['Year'] = local['ds'].apply(lambda x: str(x)[-4:])\n",
    "local['Month'] = local['ds'].apply(lambda x: str(x)[-7:-5])\n",
    "local['Day'] = local['ds'].apply(lambda x: str(x)[:-8])"
   ]
  },
  {
   "cell_type": "code",
   "execution_count": 7,
   "id": "9ab80030",
   "metadata": {},
   "outputs": [],
   "source": [
    "local['date'] = pd.DatetimeIndex(local['Year']+'-'+local['Month']+'-'+local['Day'])"
   ]
  },
  {
   "cell_type": "code",
   "execution_count": 8,
   "id": "3a233a9b",
   "metadata": {},
   "outputs": [
    {
     "data": {
      "text/html": [
       "<div>\n",
       "<style scoped>\n",
       "    .dataframe tbody tr th:only-of-type {\n",
       "        vertical-align: middle;\n",
       "    }\n",
       "\n",
       "    .dataframe tbody tr th {\n",
       "        vertical-align: top;\n",
       "    }\n",
       "\n",
       "    .dataframe thead th {\n",
       "        text-align: right;\n",
       "    }\n",
       "</style>\n",
       "<table border=\"1\" class=\"dataframe\">\n",
       "  <thead>\n",
       "    <tr style=\"text-align: right;\">\n",
       "      <th></th>\n",
       "      <th>ds</th>\n",
       "      <th>y</th>\n",
       "      <th>Year</th>\n",
       "      <th>Month</th>\n",
       "      <th>Day</th>\n",
       "      <th>date</th>\n",
       "    </tr>\n",
       "  </thead>\n",
       "  <tbody>\n",
       "    <tr>\n",
       "      <th>0</th>\n",
       "      <td>11/03/2020</td>\n",
       "      <td>1</td>\n",
       "      <td>2020</td>\n",
       "      <td>03</td>\n",
       "      <td>11</td>\n",
       "      <td>2020-03-11</td>\n",
       "    </tr>\n",
       "    <tr>\n",
       "      <th>1</th>\n",
       "      <td>12/03/2020</td>\n",
       "      <td>0</td>\n",
       "      <td>2020</td>\n",
       "      <td>03</td>\n",
       "      <td>12</td>\n",
       "      <td>2020-03-12</td>\n",
       "    </tr>\n",
       "    <tr>\n",
       "      <th>2</th>\n",
       "      <td>13/03/2020</td>\n",
       "      <td>4</td>\n",
       "      <td>2020</td>\n",
       "      <td>03</td>\n",
       "      <td>13</td>\n",
       "      <td>2020-03-13</td>\n",
       "    </tr>\n",
       "    <tr>\n",
       "      <th>3</th>\n",
       "      <td>14/03/2020</td>\n",
       "      <td>4</td>\n",
       "      <td>2020</td>\n",
       "      <td>03</td>\n",
       "      <td>14</td>\n",
       "      <td>2020-03-14</td>\n",
       "    </tr>\n",
       "    <tr>\n",
       "      <th>4</th>\n",
       "      <td>15/03/2020</td>\n",
       "      <td>8</td>\n",
       "      <td>2020</td>\n",
       "      <td>03</td>\n",
       "      <td>15</td>\n",
       "      <td>2020-03-15</td>\n",
       "    </tr>\n",
       "  </tbody>\n",
       "</table>\n",
       "</div>"
      ],
      "text/plain": [
       "           ds  y  Year Month Day       date\n",
       "0  11/03/2020  1  2020    03  11 2020-03-11\n",
       "1  12/03/2020  0  2020    03  12 2020-03-12\n",
       "2  13/03/2020  4  2020    03  13 2020-03-13\n",
       "3  14/03/2020  4  2020    03  14 2020-03-14\n",
       "4  15/03/2020  8  2020    03  15 2020-03-15"
      ]
     },
     "execution_count": 8,
     "metadata": {},
     "output_type": "execute_result"
    }
   ],
   "source": [
    "local.head()"
   ]
  },
  {
   "cell_type": "code",
   "execution_count": 9,
   "id": "5773e5ff",
   "metadata": {},
   "outputs": [],
   "source": [
    "local = local[['y','date']]"
   ]
  },
  {
   "cell_type": "code",
   "execution_count": 10,
   "id": "35b59fe5",
   "metadata": {},
   "outputs": [
    {
     "data": {
      "text/html": [
       "<div>\n",
       "<style scoped>\n",
       "    .dataframe tbody tr th:only-of-type {\n",
       "        vertical-align: middle;\n",
       "    }\n",
       "\n",
       "    .dataframe tbody tr th {\n",
       "        vertical-align: top;\n",
       "    }\n",
       "\n",
       "    .dataframe thead th {\n",
       "        text-align: right;\n",
       "    }\n",
       "</style>\n",
       "<table border=\"1\" class=\"dataframe\">\n",
       "  <thead>\n",
       "    <tr style=\"text-align: right;\">\n",
       "      <th></th>\n",
       "      <th>y</th>\n",
       "      <th>date</th>\n",
       "    </tr>\n",
       "  </thead>\n",
       "  <tbody>\n",
       "    <tr>\n",
       "      <th>0</th>\n",
       "      <td>1</td>\n",
       "      <td>2020-03-11</td>\n",
       "    </tr>\n",
       "    <tr>\n",
       "      <th>1</th>\n",
       "      <td>0</td>\n",
       "      <td>2020-03-12</td>\n",
       "    </tr>\n",
       "    <tr>\n",
       "      <th>2</th>\n",
       "      <td>4</td>\n",
       "      <td>2020-03-13</td>\n",
       "    </tr>\n",
       "    <tr>\n",
       "      <th>3</th>\n",
       "      <td>4</td>\n",
       "      <td>2020-03-14</td>\n",
       "    </tr>\n",
       "    <tr>\n",
       "      <th>4</th>\n",
       "      <td>8</td>\n",
       "      <td>2020-03-15</td>\n",
       "    </tr>\n",
       "  </tbody>\n",
       "</table>\n",
       "</div>"
      ],
      "text/plain": [
       "   y       date\n",
       "0  1 2020-03-11\n",
       "1  0 2020-03-12\n",
       "2  4 2020-03-13\n",
       "3  4 2020-03-14\n",
       "4  8 2020-03-15"
      ]
     },
     "execution_count": 10,
     "metadata": {},
     "output_type": "execute_result"
    }
   ],
   "source": [
    "local.head()"
   ]
  },
  {
   "cell_type": "code",
   "execution_count": 11,
   "id": "95c24e10",
   "metadata": {},
   "outputs": [],
   "source": [
    "india['Year'] = india['ds'].apply(lambda x: str(x)[-4:])\n",
    "india['Month'] = india['ds'].apply(lambda x: str(x)[-7:-5])\n",
    "india['Day'] = india['ds'].apply(lambda x: str(x)[:-8])"
   ]
  },
  {
   "cell_type": "code",
   "execution_count": 12,
   "id": "579fdbed",
   "metadata": {},
   "outputs": [],
   "source": [
    "india['date'] = pd.DatetimeIndex(india['Year']+'-'+india['Month']+'-'+india['Day'])"
   ]
  },
  {
   "cell_type": "code",
   "execution_count": 51,
   "id": "168b5f7c",
   "metadata": {},
   "outputs": [],
   "source": [
    "#Dark Background in Seaborn\n",
    "sns.set(style=\"ticks\", context=\"talk\")\n",
    "plt.style.use(\"dark_background\")"
   ]
  },
  {
   "cell_type": "code",
   "execution_count": 53,
   "id": "7be2de04",
   "metadata": {},
   "outputs": [
    {
     "data": {
      "image/png": "[encoded data removed]",
      "text/plain": [
       "<Figure size 1080x720 with 2 Axes>"
      ]
     },
     "metadata": {},
     "output_type": "display_data"
    }
   ],
   "source": [
    "fig,ax =  plt.subplots(2,1, sharex=True,\n",
    "                       figsize = ( 15, 10))\n",
    "sns.lineplot(x = local['date'], y = local['y'],\n",
    "             data = local,ax = ax[1], color='red')\n",
    "ax[1].tick_params(labelrotation = 25)\n",
    "ax[0].set_title('India Daily COVID-19 New Cases', fontsize=20)\n",
    "sns.lineplot(x = india['date'], y = india['y'], data = india,ax = ax[0], color='red')\n",
    "ax[0].tick_params(labelrotation = 25)\n",
    "ax[1].set_title('Sri Lanka Daily COVID-19 New Cases', fontsize=20)\n",
    "ax[0].set_ylabel('New Cases', fontsize=15)\n",
    "ax[1].set_ylabel('New Cases', fontsize=15)\n",
    "ax[1].set_xlabel('Date', fontsize=15)\n",
    "fig.tight_layout(pad = 1.2)\n",
    "plt.savefig('ind_lk_COVID_April30.png')"
   ]
  },
  {
   "cell_type": "code",
   "execution_count": null,
   "id": "aee3897b",
   "metadata": {},
   "outputs": [],
   "source": []
  }
 ],
 "metadata": {
  "kernelspec": {
   "display_name": "fbtime",
   "language": "python",
   "name": "fbprophet"
  },
  "language_info": {
   "codemirror_mode": {
    "name": "ipython",
    "version": 3
   },
   "file_extension": ".py",
   "mimetype": "text/x-python",
   "name": "python",
   "nbconvert_exporter": "python",
   "pygments_lexer": "ipython3",
   "version": "3.7.10"
  }
 },
 "nbformat": 4,
 "nbformat_minor": 5
}
